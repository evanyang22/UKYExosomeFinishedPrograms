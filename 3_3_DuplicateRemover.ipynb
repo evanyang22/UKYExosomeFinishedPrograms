{
 "cells": [
  {
   "cell_type": "code",
   "execution_count": 5,
   "id": "ba02e1fd",
   "metadata": {},
   "outputs": [
    {
     "name": "stdout",
     "output_type": "stream",
     "text": [
      "Folder: .ipynb_checkpoints\n",
      "CSV File Duplicates Removed: EXACT DUPS_nacorrected_asgngrph_crct_01.csv\n",
      "Folder: Example folder\n",
      "CSV File Duplicates Removed: EXACT DUPS_nacorrected_asgngrph_crct_01.csv\n",
      "CSV File Duplicates Removed: test.csv\n",
      "Press any key to exit0\n"
     ]
    },
    {
     "data": {
      "text/plain": [
       "'0'"
      ]
     },
     "execution_count": 5,
     "metadata": {},
     "output_type": "execute_result"
    }
   ],
   "source": [
    "#removes one of each pair of duplicates\n",
    "import csv\n",
    "import os\n",
    "import pandas as pd\n",
    "\n",
    "for file in os.scandir():\n",
    "    if file.is_dir():\n",
    "        print(\"Folder: \"+ file.name)\n",
    "        for csvFile in os.scandir(file):\n",
    "            if csvFile.path.endswith(\".csv\"): \n",
    "                try: \n",
    "                    print(\"CSV File Duplicates Removed: \"+ csvFile.name)\n",
    "                    df=pd.read_csv(csvFile.path)\n",
    "                    cleanDF=df.drop_duplicates(keep='first')\n",
    "                    cleanDF.to_csv(csvFile.path, index=False)\n",
    "                except Exception as e:\n",
    "                    print(\"Error: \"+ csvFile.name+ \" : \" +str(e))\n",
    "                    pass\n",
    "    \n",
    "    if file.path.endswith(\".csv\"): \n",
    "        try: \n",
    "            print(\"CSV File Duplicates Removed: \"+ file.name)\n",
    "            df=pd.read_csv(file.path)\n",
    "            cleanDF=df.drop_duplicates(keep='first')\n",
    "            cleanDF.to_csv(file.path, index=False)\n",
    "        except Exception as e:\n",
    "            print(\"Error: \"+ file.name + \" : \" +str(e))\n",
    "            pass \n",
    "            \n",
    "        \n",
    "input(\"Press any key to exit\")"
   ]
  },
  {
   "cell_type": "code",
   "execution_count": null,
   "id": "acaf4dfb",
   "metadata": {},
   "outputs": [],
   "source": []
  }
 ],
 "metadata": {
  "kernelspec": {
   "display_name": "Python 3",
   "language": "python",
   "name": "python3"
  },
  "language_info": {
   "codemirror_mode": {
    "name": "ipython",
    "version": 3
   },
   "file_extension": ".py",
   "mimetype": "text/x-python",
   "name": "python",
   "nbconvert_exporter": "python",
   "pygments_lexer": "ipython3",
   "version": "3.8.8"
  }
 },
 "nbformat": 4,
 "nbformat_minor": 5
}
