{
 "cells": [
  {
   "cell_type": "code",
   "execution_count": 5,
   "id": "97a16f8d",
   "metadata": {},
   "outputs": [
    {
     "name": "stdout",
     "output_type": "stream",
     "text": [
      "   Evan  Yang  Unnamed: 2\n",
      "0     5    22        69.0\n",
      "1    28    22         NaN\n",
      "2  2002    22         NaN\n",
      "Done: hi.csv\n",
      "Press any key to exit0\n"
     ]
    },
    {
     "data": {
      "text/plain": [
       "'0'"
      ]
     },
     "execution_count": 5,
     "metadata": {},
     "output_type": "execute_result"
    }
   ],
   "source": [
    "import os\n",
    "import csv\n",
    "import pandas as pd\n",
    "import PySimpleGUI as sg\n",
    "import logging\n",
    "\n",
    "for filename in os.scandir():\n",
    "    try:\n",
    "        if filename.path.endswith(\".csv\"):\n",
    "            df = pd.read_csv(filename.path)\n",
    "            print(df)\n",
    "            df = df.loc[:, ~df.columns.str.contains('^Unnamed')]\n",
    "            #overwrites to csv\n",
    "            df.to_csv(filename.path, index=False)\n",
    "            print(\"Done: \"+ filename.name)\n",
    "    except Exception as e:\n",
    "        print(str(e) +\" : \" +filename.name)\n",
    "        pass\n",
    "\n",
    "\n",
    "input(\"Press any key to exit\")"
   ]
  },
  {
   "cell_type": "code",
   "execution_count": null,
   "id": "0b980473",
   "metadata": {},
   "outputs": [],
   "source": []
  }
 ],
 "metadata": {
  "kernelspec": {
   "display_name": "Python 3",
   "language": "python",
   "name": "python3"
  },
  "language_info": {
   "codemirror_mode": {
    "name": "ipython",
    "version": 3
   },
   "file_extension": ".py",
   "mimetype": "text/x-python",
   "name": "python",
   "nbconvert_exporter": "python",
   "pygments_lexer": "ipython3",
   "version": "3.8.8"
  }
 },
 "nbformat": 4,
 "nbformat_minor": 5
}
